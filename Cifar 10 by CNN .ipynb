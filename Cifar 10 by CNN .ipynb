{
 "cells": [
  {
   "cell_type": "code",
   "execution_count": 23,
   "metadata": {},
   "outputs": [],
   "source": [
    "from keras.datasets import cifar10\n",
    "import matplotlib.pyplot as plt\n",
    "import numpy as np"
   ]
  },
  {
   "cell_type": "code",
   "execution_count": 25,
   "metadata": {},
   "outputs": [],
   "source": [
    "(x_train,y_train),(x_test,y_test)=cifar10.load_data()"
   ]
  },
  {
   "cell_type": "code",
   "execution_count": 27,
   "metadata": {},
   "outputs": [
    {
     "name": "stdout",
     "output_type": "stream",
     "text": [
      "Train: x=(50000, 32, 32, 3), y=(50000, 1) \n",
      "Test: x=(10000, 32, 32, 3), y=(10000, 1)\n"
     ]
    }
   ],
   "source": [
    "print('Train: x=%s, y=%s \\nTest: x=%s, y=%s' % (x_train.shape, y_train.shape, x_test.shape,y_test.shape))"
   ]
  },
  {
   "cell_type": "code",
   "execution_count": 28,
   "metadata": {},
   "outputs": [
    {
     "data": {
      "text/plain": [
       "<matplotlib.image.AxesImage at 0x1cd4f9ea438>"
      ]
     },
     "execution_count": 28,
     "metadata": {},
     "output_type": "execute_result"
    },
    {
     "data": {
      "image/png": "[encoded data removed]",
      "text/plain": [
       "<Figure size 432x288 with 1 Axes>"
      ]
     },
     "metadata": {
      "needs_background": "light"
     },
     "output_type": "display_data"
    }
   ],
   "source": [
    "plt.imshow(x_train[76])"
   ]
  },
  {
   "cell_type": "code",
   "execution_count": 29,
   "metadata": {},
   "outputs": [
    {
     "data": {
      "text/plain": [
       "array([9], dtype=uint8)"
      ]
     },
     "execution_count": 29,
     "metadata": {},
     "output_type": "execute_result"
    }
   ],
   "source": [
    "y_train[76]"
   ]
  },
  {
   "cell_type": "code",
   "execution_count": 30,
   "metadata": {},
   "outputs": [
    {
     "data": {
      "text/plain": [
       "(50000, 32, 32, 3)"
      ]
     },
     "execution_count": 30,
     "metadata": {},
     "output_type": "execute_result"
    }
   ],
   "source": [
    "x_train.shape"
   ]
  },
  {
   "cell_type": "code",
   "execution_count": 31,
   "metadata": {},
   "outputs": [
    {
     "data": {
      "text/plain": [
       "array([[[118, 157, 187],\n",
       "        [110, 162, 196],\n",
       "        [118, 172, 219],\n",
       "        ...,\n",
       "        [114, 161, 207],\n",
       "        [114, 161, 207],\n",
       "        [113, 161, 207]],\n",
       "\n",
       "       [[ 84, 120, 147],\n",
       "        [ 88, 136, 168],\n",
       "        [120, 173, 218],\n",
       "        ...,\n",
       "        [113, 165, 217],\n",
       "        [114, 164, 216],\n",
       "        [115, 163, 212]],\n",
       "\n",
       "       [[ 85, 117, 142],\n",
       "        [ 99, 141, 171],\n",
       "        [131, 183, 225],\n",
       "        ...,\n",
       "        [120, 168, 216],\n",
       "        [120, 168, 215],\n",
       "        [119, 167, 213]],\n",
       "\n",
       "       ...,\n",
       "\n",
       "       [[155, 158, 142],\n",
       "        [152, 156, 136],\n",
       "        [151, 155, 133],\n",
       "        ...,\n",
       "        [105, 106,  87],\n",
       "        [ 82,  84,  63],\n",
       "        [127, 129, 105]],\n",
       "\n",
       "       [[154, 155, 138],\n",
       "        [155, 157, 137],\n",
       "        [156, 158, 136],\n",
       "        ...,\n",
       "        [150, 152, 130],\n",
       "        [142, 145, 120],\n",
       "        [139, 142, 113]],\n",
       "\n",
       "       [[153, 155, 143],\n",
       "        [152, 155, 139],\n",
       "        [154, 156, 139],\n",
       "        ...,\n",
       "        [145, 147, 128],\n",
       "        [148, 150, 127],\n",
       "        [146, 149, 119]]], dtype=uint8)"
      ]
     },
     "execution_count": 31,
     "metadata": {},
     "output_type": "execute_result"
    }
   ],
   "source": [
    "x_train[76]"
   ]
  },
  {
   "cell_type": "code",
   "execution_count": 32,
   "metadata": {},
   "outputs": [],
   "source": [
    "from tensorflow.keras.utils import to_categorical"
   ]
  },
  {
   "cell_type": "code",
   "execution_count": 33,
   "metadata": {},
   "outputs": [
    {
     "data": {
      "text/plain": [
       "array([0., 0., 0., 0., 0., 0., 0., 0., 0., 1.], dtype=float32)"
      ]
     },
     "execution_count": 33,
     "metadata": {},
     "output_type": "execute_result"
    }
   ],
   "source": [
    "to_categorical(y_train)[76]"
   ]
  },
  {
   "cell_type": "code",
   "execution_count": 34,
   "metadata": {},
   "outputs": [],
   "source": [
    "y_train=to_categorical(y_train,10)\n",
    "y_test=to_categorical(y_test,10)"
   ]
  },
  {
   "cell_type": "code",
   "execution_count": 35,
   "metadata": {},
   "outputs": [],
   "source": [
    "#Normalizing= make it easies for the neuron to process the data \n",
    "#x-min(x)/(max-min)\n",
    "#x-0/(255-0)\n",
    "#x/255\n",
    "x_train=x_train/255\n",
    "x_test=x_test/255"
   ]
  },
  {
   "cell_type": "markdown",
   "metadata": {},
   "source": [
    "# CNN Model Training"
   ]
  },
  {
   "cell_type": "code",
   "execution_count": 43,
   "metadata": {},
   "outputs": [],
   "source": [
    "from tensorflow.keras.models import Sequential\n",
    "from tensorflow.keras.layers import Dense,Conv2D,MaxPooling2D,Flatten"
   ]
  },
  {
   "cell_type": "code",
   "execution_count": 44,
   "metadata": {},
   "outputs": [],
   "source": [
    "#Convolutional Layer\n",
    "model=Sequential()\n",
    "model.add(Conv2D(filters=32,kernel_size=(4,4),input_shape=(32,32,3),activation='relu'))\n",
    "model.add(Conv2D(filters=32,kernel_size=(4,4),input_shape=(32,32,3),activation='relu'))\n",
    "\n",
    "#Pooling Layer\n",
    "model.add(MaxPooling2D(pool_size=(2,2)))\n",
    "model.add(Conv2D(filters=32,kernel_size=(4,4),input_shape=(32,32,3),activation='relu'))\n",
    "\n",
    "#Pooling Layer\n",
    "model.add(MaxPooling2D(pool_size=(2,2)))\n",
    "\n",
    "#Flatten Image From 32 by 32 to 1024 before final layer\n",
    "model.add(Flatten())\n",
    "\n",
    "#128 Neurons in Dense Hidden Layer(you can change this number of neurons)\n",
    "model.add(Dense(128 ,input_shape=x_train.shape[1:],activation='relu'))\n",
    "\n",
    "#Last Layer in the Classifir, thus 10 possible classes\n",
    "model.add(Dense(10,activation='softmax'))\n",
    "\n",
    "\n",
    "#Compile the model\n",
    "model.compile(loss='categorical_crossentropy',\n",
    "             optimizer='adam',\n",
    "             metrics=['accuracy'])  #we can add in additionial merics"
   ]
  },
  {
   "cell_type": "code",
   "execution_count": 45,
   "metadata": {},
   "outputs": [
    {
     "name": "stdout",
     "output_type": "stream",
     "text": [
      "Model: \"sequential_3\"\n",
      "_________________________________________________________________\n",
      "Layer (type)                 Output Shape              Param #   \n",
      "=================================================================\n",
      "conv2d_9 (Conv2D)            (None, 29, 29, 32)        1568      \n",
      "_________________________________________________________________\n",
      "conv2d_10 (Conv2D)           (None, 26, 26, 32)        16416     \n",
      "_________________________________________________________________\n",
      "max_pooling2d_6 (MaxPooling2 (None, 13, 13, 32)        0         \n",
      "_________________________________________________________________\n",
      "conv2d_11 (Conv2D)           (None, 10, 10, 32)        16416     \n",
      "_________________________________________________________________\n",
      "max_pooling2d_7 (MaxPooling2 (None, 5, 5, 32)          0         \n",
      "_________________________________________________________________\n",
      "flatten_3 (Flatten)          (None, 800)               0         \n",
      "_________________________________________________________________\n",
      "dense_4 (Dense)              (None, 128)               102528    \n",
      "_________________________________________________________________\n",
      "dense_5 (Dense)              (None, 10)                1290      \n",
      "=================================================================\n",
      "Total params: 138,218\n",
      "Trainable params: 138,218\n",
      "Non-trainable params: 0\n",
      "_________________________________________________________________\n"
     ]
    }
   ],
   "source": [
    "model.summary()"
   ]
  },
  {
   "cell_type": "code",
   "execution_count": 46,
   "metadata": {},
   "outputs": [
    {
     "name": "stdout",
     "output_type": "stream",
     "text": [
      "Train on 50000 samples, validate on 10000 samples\n",
      "Epoch 1/10\n",
      "50000/50000 [==============================] - 157s 3ms/sample - loss: 1.4641 - accuracy: 0.4701 - val_loss: 1.2356 - val_accuracy: 0.5564\n",
      "Epoch 2/10\n",
      "50000/50000 [==============================] - 134s 3ms/sample - loss: 1.0973 - accuracy: 0.6144 - val_loss: 1.0979 - val_accuracy: 0.6032\n",
      "Epoch 3/10\n",
      "50000/50000 [==============================] - 138s 3ms/sample - loss: 0.9547 - accuracy: 0.6622 - val_loss: 0.9966 - val_accuracy: 0.6554\n",
      "Epoch 4/10\n",
      "50000/50000 [==============================] - 134s 3ms/sample - loss: 0.8471 - accuracy: 0.7042 - val_loss: 0.9168 - val_accuracy: 0.6831\n",
      "Epoch 5/10\n",
      "50000/50000 [==============================] - 121s 2ms/sample - loss: 0.7752 - accuracy: 0.7276 - val_loss: 0.8797 - val_accuracy: 0.6940\n",
      "Epoch 6/10\n",
      "50000/50000 [==============================] - 122s 2ms/sample - loss: 0.7137 - accuracy: 0.7499 - val_loss: 0.8934 - val_accuracy: 0.6965\n",
      "Epoch 7/10\n",
      "50000/50000 [==============================] - 121s 2ms/sample - loss: 0.6578 - accuracy: 0.7687 - val_loss: 0.9024 - val_accuracy: 0.7001\n",
      "Epoch 8/10\n",
      "50000/50000 [==============================] - 121s 2ms/sample - loss: 0.6087 - accuracy: 0.7840 - val_loss: 0.9006 - val_accuracy: 0.7072\n",
      "Epoch 9/10\n",
      "50000/50000 [==============================] - 122s 2ms/sample - loss: 0.5580 - accuracy: 0.8021 - val_loss: 0.8891 - val_accuracy: 0.7101\n",
      "Epoch 10/10\n",
      "50000/50000 [==============================] - 121s 2ms/sample - loss: 0.5155 - accuracy: 0.8164 - val_loss: 0.9300 - val_accuracy: 0.6983\n"
     ]
    },
    {
     "data": {
      "text/plain": [
       "<tensorflow.python.keras.callbacks.History at 0x1cdc2912588>"
      ]
     },
     "execution_count": 46,
     "metadata": {},
     "output_type": "execute_result"
    }
   ],
   "source": [
    "model.fit(x_train,y_train,epochs=10,validation_data=(x_test,y_test))"
   ]
  },
  {
   "cell_type": "code",
   "execution_count": 47,
   "metadata": {},
   "outputs": [
    {
     "data": {
      "text/plain": [
       "<matplotlib.image.AxesImage at 0x1cdc3dc00b8>"
      ]
     },
     "execution_count": 47,
     "metadata": {},
     "output_type": "execute_result"
    },
    {
     "data": {
      "image/png": "[encoded data removed]",
      "text/plain": [
       "<Figure size 432x288 with 1 Axes>"
      ]
     },
     "metadata": {
      "needs_background": "light"
     },
     "output_type": "display_data"
    }
   ],
   "source": [
    "plt.imshow(x_test[55].reshape(32,32,3))"
   ]
  },
  {
   "cell_type": "code",
   "execution_count": 48,
   "metadata": {},
   "outputs": [
    {
     "data": {
      "text/plain": [
       "8"
      ]
     },
     "execution_count": 48,
     "metadata": {},
     "output_type": "execute_result"
    }
   ],
   "source": [
    "np.argmax(y_test[55]) #argmax give max value position"
   ]
  },
  {
   "cell_type": "code",
   "execution_count": 49,
   "metadata": {},
   "outputs": [
    {
     "data": {
      "text/plain": [
       "8"
      ]
     },
     "execution_count": 49,
     "metadata": {},
     "output_type": "execute_result"
    }
   ],
   "source": [
    "np.argmax(model.predict(x_test[55][None,:]))"
   ]
  },
  {
   "cell_type": "code",
   "execution_count": null,
   "metadata": {},
   "outputs": [],
   "source": []
  }
 ],
 "metadata": {
  "kernelspec": {
   "display_name": "Python 3",
   "language": "python",
   "name": "python3"
  },
  "language_info": {
   "codemirror_mode": {
    "name": "ipython",
    "version": 3
   },
   "file_extension": ".py",
   "mimetype": "text/x-python",
   "name": "python",
   "nbconvert_exporter": "python",
   "pygments_lexer": "ipython3",
   "version": "3.7.0"
  }
 },
 "nbformat": 4,
 "nbformat_minor": 4
}
